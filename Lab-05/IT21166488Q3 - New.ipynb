{
 "cells": [
  {
   "cell_type": "markdown",
   "id": "4fc9b53f",
   "metadata": {},
   "source": [
    "***Task 3 - Sentiment Analysis using LSTM ***\n",
    "\n",
    "Sentiment analysis is a common natural language processing (NLP) task that involves determining the sentiment or emotional tone behind a body of text. It is widely used in fields such as marketing, customer service, and social media monitoring to gauge public opinion and understand customer feedback.\n",
    "\n",
    "In this task, you will implement a Long Short-Term Memory (LSTM) network, a type of recurrent neural network (RNN) that is particularly well-suited for analyzing sequential data, such as text. Using the IMDB movie reviews dataset, you will build a model to classify reviews as either positive or negative. This exercise will help you understand how LSTMs can capture the context and sequence of words in a text, making them powerful tools for tasks like sentiment analysis.\n",
    "\n",
    "By the end of this task, you should be able to implement a basic LSTM model, preprocess text data, and evaluate the model's performance using metrics such as accuracy and F1-score. This hands-on experience will give you a deeper understanding of how deep learning models can be applied to real-world NLP problems."
   ]
  },
  {
   "cell_type": "code",
   "execution_count": 3,
   "id": "985f96c3",
   "metadata": {},
   "outputs": [],
   "source": [
    "import numpy as np\n",
    "import pandas as pd\n",
    "import tensorflow as tf\n",
    "from tensorflow.keras.models import Sequential\n",
    "from tensorflow.keras.layers import Embedding, LSTM, Bidirectional, Dense, Dropout\n",
    "from tensorflow.keras.preprocessing.text import Tokenizer\n",
    "from tensorflow.keras.preprocessing.sequence import pad_sequences\n",
    "from sklearn.metrics import accuracy_score, f1_score\n",
    "from sklearn.model_selection import train_test_split\n",
    "import re"
   ]
  },
  {
   "cell_type": "markdown",
   "id": "4a8ec307",
   "metadata": {},
   "source": [
    "The pd.read_csv() function is used to read the CSV file. We specify the engine='python' to handle complex parsing scenarios, such as files with irregular delimiters or quotes. The on_bad_lines='skip' parameter ensures that any problematic rows in the CSV file (e.g., rows with formatting issues) are skipped instead of causing the program to crash. This helps in handling large and potentially messy datasets. After loading the data, the df.dropna(inplace=True) line removes any rows that contain missing values. This is important to ensure that the data fed into the model is complete and does not cause errors during processing."
   ]
  },
  {
   "cell_type": "code",
   "execution_count": 4,
   "id": "6449aa13",
   "metadata": {},
   "outputs": [],
   "source": [
    "# 1. Load and Preprocess the Dataset\n",
    "def load_data(file_path):\n",
    "    # Load the dataset (e.g., IMDB movie reviews dataset)\n",
    "    df = pd.read_csv(file_path, engine='python', on_bad_lines='skip')  # Using 'python' engine and skipping bad lines\n",
    "    df.dropna(inplace=True)  # Drop any rows with missing values\n",
    "    return df['review'], df['sentiment']  # Assuming 'review' and 'sentiment' columns\n"
   ]
  },
  {
   "cell_type": "markdown",
   "id": "bcacb23d",
   "metadata": {},
   "source": [
    "The clean_text function is designed to clean and preprocess text data by removing unwanted characters, numbers, and symbols, ensuring that the text is ready for tokenization and further processing.\n",
    "\n",
    "re.sub(r\"[^A-Za-z\\s]\", \"\", text) removes any characters that are not letters (A-Z, a-z) or spaces. This includes punctuation, numbers, and special symbols.\n",
    "\n",
    "re.sub(r\"\\s+\", \" \", text) replaces multiple spaces with a single space.\n",
    "\n",
    ".strip() removes any leading or trailing spaces from the text.\n",
    "\n",
    "This cleaning process ensures that the text is standardized, making it easier for the model to learn patterns without being confused by irrelevant characters or inconsistent spacing."
   ]
  },
  {
   "cell_type": "code",
   "execution_count": 5,
   "id": "944b278e",
   "metadata": {},
   "outputs": [],
   "source": [
    "# Clean the text\n",
    "def clean_text(text):\n",
    "    # Remove unwanted characters, numbers, and symbols\n",
    "    text = re.sub(r\"[^A-Za-z\\s]\", \"\", text)\n",
    "    text = re.sub(r\"\\s+\", \" \", text).strip()\n",
    "    return text"
   ]
  },
  {
   "cell_type": "markdown",
   "id": "1d526cb9",
   "metadata": {},
   "source": [
    "preprocess_text first cleans each review by removing unwanted characters using the clean_text function. Then, it initializes a Tokenizer to convert text into sequences of integers, where each integer represents a word. These sequences are padded to a uniform length (max_len) to ensure consistent input size for the model. Finally, it returns the padded sequences and the tokenizer for further use.\n",
    "\n",
    "A Tokenizer in the context of text processing is a tool used to convert text data into a numerical format that machine learning models can understand."
   ]
  },
  {
   "cell_type": "code",
   "execution_count": 6,
   "id": "89891d79",
   "metadata": {},
   "outputs": [],
   "source": [
    "# Tokenize and Pad Sequences\n",
    "def preprocess_text(reviews, max_words=5000, max_len=200):\n",
    "    reviews = [clean_text(review) for review in reviews]  # Clean the reviews\n",
    "    tokenizer = Tokenizer(num_words=max_words)\n",
    "    tokenizer.fit_on_texts(reviews)\n",
    "    sequences = tokenizer.texts_to_sequences(reviews)\n",
    "    padded_sequences = pad_sequences(sequences, maxlen=max_len)\n",
    "    return padded_sequences, tokenizer"
   ]
  },
  {
   "cell_type": "markdown",
   "id": "c0736e8b",
   "metadata": {},
   "source": [
    "The encode_labels function converts 'positive' and 'negative' sentiment labels into 1s and 0s, respectively, for numerical processing. It then returns these labels as a NumPy array."
   ]
  },
  {
   "cell_type": "code",
   "execution_count": 7,
   "id": "bc965914",
   "metadata": {},
   "outputs": [],
   "source": [
    "# Encode Sentiments\n",
    "def encode_labels(sentiments):\n",
    "    sentiments = sentiments.map({'positive': 1, 'negative': 0}).values\n",
    "    return sentiments"
   ]
  },
  {
   "cell_type": "code",
   "execution_count": 8,
   "id": "62f3efe1",
   "metadata": {},
   "outputs": [],
   "source": [
    "# Load Data\n",
    "file_path = 'IMDB Dataset.csv'  # <-- Provide the correct path to the dataset\n",
    "reviews, sentiments = load_data(file_path)"
   ]
  },
  {
   "cell_type": "code",
   "execution_count": 9,
   "id": "3f04da8f",
   "metadata": {},
   "outputs": [],
   "source": [
    "# Preprocess Text Data\n",
    "max_words = 5000  # Consider the top 5000 words\n",
    "max_len = 200  # Pad or truncate reviews to 200 words\n",
    "X, tokenizer = preprocess_text(reviews, max_words=max_words, max_len=max_len)\n"
   ]
  },
  {
   "cell_type": "code",
   "execution_count": 10,
   "id": "8e272b8c",
   "metadata": {},
   "outputs": [],
   "source": [
    "# Encode Sentiments (positive -> 1, negative -> 0)\n",
    "y = encode_labels(sentiments)\n",
    "# Split into Training and Testing Sets\n",
    "X_train, X_test, y_train, y_test = train_test_split(X, y, test_size=0.2, random_state=42)\n"
   ]
  },
  {
   "cell_type": "code",
   "execution_count": 11,
   "id": "21966a1c",
   "metadata": {},
   "outputs": [
    {
     "name": "stderr",
     "output_type": "stream",
     "text": [
      "C:\\Users\\HP EliteBook\\AppData\\Roaming\\Python\\Python311\\site-packages\\keras\\src\\layers\\core\\embedding.py:90: UserWarning: Argument `input_length` is deprecated. Just remove it.\n",
      "  warnings.warn(\n"
     ]
    }
   ],
   "source": [
    "# 2. Define and Train the Bidirectional LSTM Model\n",
    "bidirectional_model = Sequential()\n",
    "bidirectional_model.add(Embedding(input_dim=max_words, output_dim=128, input_length=max_len))  # Modify 'output_dim'\n",
    "bidirectional_model.add(Bidirectional(LSTM(units=64, return_sequences=True)))  # Experiment with 'units'\n",
    "bidirectional_model.add(Dropout(0.5))  # Add Dropout for regularization\n",
    "bidirectional_model.add(Bidirectional(LSTM(units=64)))  # Experiment with 'units'\n",
    "bidirectional_model.add(Dropout(0.5))  # Add Dropout for regularization\n",
    "bidirectional_model.add(Dense(1, activation='sigmoid'))\n",
    "bidirectional_model.compile(optimizer='adam', loss='binary_crossentropy', metrics=['accuracy'])\n"
   ]
  },
  {
   "cell_type": "code",
   "execution_count": 15,
   "id": "0869bf69",
   "metadata": {},
   "outputs": [
    {
     "name": "stdout",
     "output_type": "stream",
     "text": [
      "Epoch 1/10\n",
      "\u001b[1m1250/1250\u001b[0m \u001b[32m━━━━━━━━━━━━━━━━━━━━\u001b[0m\u001b[37m\u001b[0m \u001b[1m397s\u001b[0m 308ms/step - accuracy: 0.7224 - loss: 0.5246 - val_accuracy: 0.8707 - val_loss: 0.3151\n",
      "Epoch 2/10\n",
      "\u001b[1m1250/1250\u001b[0m \u001b[32m━━━━━━━━━━━━━━━━━━━━\u001b[0m\u001b[37m\u001b[0m \u001b[1m357s\u001b[0m 286ms/step - accuracy: 0.8644 - loss: 0.3347 - val_accuracy: 0.8664 - val_loss: 0.3216\n",
      "Epoch 3/10\n",
      "\u001b[1m1250/1250\u001b[0m \u001b[32m━━━━━━━━━━━━━━━━━━━━\u001b[0m\u001b[37m\u001b[0m \u001b[1m364s\u001b[0m 291ms/step - accuracy: 0.8875 - loss: 0.2857 - val_accuracy: 0.8877 - val_loss: 0.2710\n",
      "Epoch 4/10\n",
      "\u001b[1m1250/1250\u001b[0m \u001b[32m━━━━━━━━━━━━━━━━━━━━\u001b[0m\u001b[37m\u001b[0m \u001b[1m352s\u001b[0m 282ms/step - accuracy: 0.9141 - loss: 0.2264 - val_accuracy: 0.8940 - val_loss: 0.2658\n",
      "Epoch 5/10\n",
      "\u001b[1m1250/1250\u001b[0m \u001b[32m━━━━━━━━━━━━━━━━━━━━\u001b[0m\u001b[37m\u001b[0m \u001b[1m384s\u001b[0m 307ms/step - accuracy: 0.9349 - loss: 0.1808 - val_accuracy: 0.8838 - val_loss: 0.2898\n",
      "Epoch 6/10\n",
      "\u001b[1m1250/1250\u001b[0m \u001b[32m━━━━━━━━━━━━━━━━━━━━\u001b[0m\u001b[37m\u001b[0m \u001b[1m460s\u001b[0m 368ms/step - accuracy: 0.9463 - loss: 0.1538 - val_accuracy: 0.8918 - val_loss: 0.2888\n",
      "Epoch 7/10\n",
      "\u001b[1m1250/1250\u001b[0m \u001b[32m━━━━━━━━━━━━━━━━━━━━\u001b[0m\u001b[37m\u001b[0m \u001b[1m405s\u001b[0m 324ms/step - accuracy: 0.9590 - loss: 0.1235 - val_accuracy: 0.8788 - val_loss: 0.3229\n",
      "Epoch 8/10\n",
      "\u001b[1m1250/1250\u001b[0m \u001b[32m━━━━━━━━━━━━━━━━━━━━\u001b[0m\u001b[37m\u001b[0m \u001b[1m382s\u001b[0m 306ms/step - accuracy: 0.9669 - loss: 0.1050 - val_accuracy: 0.8852 - val_loss: 0.3301\n",
      "Epoch 9/10\n",
      "\u001b[1m1250/1250\u001b[0m \u001b[32m━━━━━━━━━━━━━━━━━━━━\u001b[0m\u001b[37m\u001b[0m \u001b[1m355s\u001b[0m 284ms/step - accuracy: 0.9765 - loss: 0.0825 - val_accuracy: 0.8830 - val_loss: 0.4051\n",
      "Epoch 10/10\n",
      "\u001b[1m1250/1250\u001b[0m \u001b[32m━━━━━━━━━━━━━━━━━━━━\u001b[0m\u001b[37m\u001b[0m \u001b[1m419s\u001b[0m 335ms/step - accuracy: 0.9809 - loss: 0.0674 - val_accuracy: 0.8800 - val_loss: 0.3870\n"
     ]
    }
   ],
   "source": [
    "# Train the Bidirectional LSTM model\n",
    "bidirectional_history = bidirectional_model.fit(X_train, y_train, epochs=10, batch_size=32, validation_data=(X_test, y_test), verbose=1)  # Adjust 'epochs' and 'batch_size'\n"
   ]
  },
  {
   "cell_type": "code",
   "execution_count": 12,
   "id": "ff07de58",
   "metadata": {},
   "outputs": [],
   "source": [
    "# 3. Define and Train the Unidirectional LSTM Model\n",
    "unidirectional_model = Sequential()\n",
    "unidirectional_model.add(Embedding(input_dim=max_words, output_dim=128, input_length=max_len))  # Modify 'output_dim'\n",
    "unidirectional_model.add(LSTM(units=64, return_sequences=True))  # Experiment with 'units'\n",
    "unidirectional_model.add(Dropout(0.5))  # Add Dropout for regularization\n",
    "unidirectional_model.add(LSTM(units=64))  # Experiment with 'units'\n",
    "unidirectional_model.add(Dropout(0.5))  # Add Dropout for regularization\n",
    "unidirectional_model.add(Dense(1, activation='sigmoid'))\n",
    "unidirectional_model.compile(optimizer='adam', loss='binary_crossentropy', metrics=['accuracy'])\n"
   ]
  },
  {
   "cell_type": "code",
   "execution_count": 13,
   "id": "cb5641f9",
   "metadata": {},
   "outputs": [
    {
     "name": "stdout",
     "output_type": "stream",
     "text": [
      "Epoch 1/10\n",
      "\u001b[1m1250/1250\u001b[0m \u001b[32m━━━━━━━━━━━━━━━━━━━━\u001b[0m\u001b[37m\u001b[0m \u001b[1m204s\u001b[0m 159ms/step - accuracy: 0.7620 - loss: 0.4731 - val_accuracy: 0.8727 - val_loss: 0.3015\n",
      "Epoch 2/10\n",
      "\u001b[1m1250/1250\u001b[0m \u001b[32m━━━━━━━━━━━━━━━━━━━━\u001b[0m\u001b[37m\u001b[0m \u001b[1m196s\u001b[0m 157ms/step - accuracy: 0.8911 - loss: 0.2773 - val_accuracy: 0.8873 - val_loss: 0.2808\n",
      "Epoch 3/10\n",
      "\u001b[1m1250/1250\u001b[0m \u001b[32m━━━━━━━━━━━━━━━━━━━━\u001b[0m\u001b[37m\u001b[0m \u001b[1m202s\u001b[0m 161ms/step - accuracy: 0.9154 - loss: 0.2199 - val_accuracy: 0.8735 - val_loss: 0.3010\n",
      "Epoch 4/10\n",
      "\u001b[1m1250/1250\u001b[0m \u001b[32m━━━━━━━━━━━━━━━━━━━━\u001b[0m\u001b[37m\u001b[0m \u001b[1m200s\u001b[0m 160ms/step - accuracy: 0.9294 - loss: 0.1903 - val_accuracy: 0.8827 - val_loss: 0.3195\n",
      "Epoch 5/10\n",
      "\u001b[1m1250/1250\u001b[0m \u001b[32m━━━━━━━━━━━━━━━━━━━━\u001b[0m\u001b[37m\u001b[0m \u001b[1m216s\u001b[0m 173ms/step - accuracy: 0.9446 - loss: 0.1592 - val_accuracy: 0.8845 - val_loss: 0.2961\n",
      "Epoch 6/10\n",
      "\u001b[1m1250/1250\u001b[0m \u001b[32m━━━━━━━━━━━━━━━━━━━━\u001b[0m\u001b[37m\u001b[0m \u001b[1m249s\u001b[0m 158ms/step - accuracy: 0.9537 - loss: 0.1305 - val_accuracy: 0.8740 - val_loss: 0.3453\n",
      "Epoch 7/10\n",
      "\u001b[1m1250/1250\u001b[0m \u001b[32m━━━━━━━━━━━━━━━━━━━━\u001b[0m\u001b[37m\u001b[0m \u001b[1m209s\u001b[0m 168ms/step - accuracy: 0.9619 - loss: 0.1166 - val_accuracy: 0.8737 - val_loss: 0.3475\n",
      "Epoch 8/10\n",
      "\u001b[1m1250/1250\u001b[0m \u001b[32m━━━━━━━━━━━━━━━━━━━━\u001b[0m\u001b[37m\u001b[0m \u001b[1m202s\u001b[0m 162ms/step - accuracy: 0.9706 - loss: 0.0898 - val_accuracy: 0.8825 - val_loss: 0.3875\n",
      "Epoch 9/10\n",
      "\u001b[1m1250/1250\u001b[0m \u001b[32m━━━━━━━━━━━━━━━━━━━━\u001b[0m\u001b[37m\u001b[0m \u001b[1m263s\u001b[0m 163ms/step - accuracy: 0.9767 - loss: 0.0762 - val_accuracy: 0.8789 - val_loss: 0.4532\n",
      "Epoch 10/10\n",
      "\u001b[1m1250/1250\u001b[0m \u001b[32m━━━━━━━━━━━━━━━━━━━━\u001b[0m\u001b[37m\u001b[0m \u001b[1m249s\u001b[0m 199ms/step - accuracy: 0.9821 - loss: 0.0627 - val_accuracy: 0.8861 - val_loss: 0.4815\n"
     ]
    }
   ],
   "source": [
    "# Train the Unidirectional LSTM model\n",
    "unidirectional_history = unidirectional_model.fit(X_train, y_train, epochs=10, batch_size=32, validation_data=(X_test, y_test), verbose=1)  # Adjust 'epochs' and 'batch_size'\n"
   ]
  },
  {
   "cell_type": "code",
   "execution_count": 14,
   "id": "758a1aff",
   "metadata": {},
   "outputs": [
    {
     "name": "stdout",
     "output_type": "stream",
     "text": [
      "\u001b[1m313/313\u001b[0m \u001b[32m━━━━━━━━━━━━━━━━━━━━\u001b[0m\u001b[37m\u001b[0m \u001b[1m39s\u001b[0m 107ms/step\n"
     ]
    }
   ],
   "source": [
    "# 4. Evaluate the Bidirectional LSTM Model\n",
    "y_pred_bidirectional = (bidirectional_model.predict(X_test) > 0.5).astype(\"int32\")\n"
   ]
  },
  {
   "cell_type": "code",
   "execution_count": 15,
   "id": "d8ff661e",
   "metadata": {},
   "outputs": [
    {
     "name": "stdout",
     "output_type": "stream",
     "text": [
      "Bidirectional LSTM - Accuracy: 0.5132\n",
      "Bidirectional LSTM - F1-Score: 0.3564\n"
     ]
    }
   ],
   "source": [
    "# Calculate Accuracy and F1-Score for Bidirectional LSTM\n",
    "accuracy_bidirectional = accuracy_score(y_test, y_pred_bidirectional)\n",
    "f1_bidirectional = f1_score(y_test, y_pred_bidirectional)\n",
    "print(f'Bidirectional LSTM - Accuracy: {accuracy_bidirectional:.4f}')\n",
    "print(f'Bidirectional LSTM - F1-Score: {f1_bidirectional:.4f}')\n"
   ]
  },
  {
   "cell_type": "code",
   "execution_count": 16,
   "id": "f25dfb75",
   "metadata": {},
   "outputs": [
    {
     "name": "stdout",
     "output_type": "stream",
     "text": [
      "\u001b[1m313/313\u001b[0m \u001b[32m━━━━━━━━━━━━━━━━━━━━\u001b[0m\u001b[37m\u001b[0m \u001b[1m24s\u001b[0m 73ms/step\n"
     ]
    }
   ],
   "source": [
    "# 5. Evaluate the Unidirectional LSTM Model\n",
    "y_pred_unidirectional = (unidirectional_model.predict(X_test) > 0.5).astype(\"int32\")\n"
   ]
  },
  {
   "cell_type": "code",
   "execution_count": 17,
   "id": "d7e4129d",
   "metadata": {},
   "outputs": [
    {
     "name": "stdout",
     "output_type": "stream",
     "text": [
      "Unidirectional LSTM - Accuracy: 0.8861\n",
      "Unidirectional LSTM - F1-Score: 0.8874\n"
     ]
    }
   ],
   "source": [
    "\n",
    "# Calculate Accuracy and F1-Score for Unidirectional LSTM\n",
    "accuracy_unidirectional = accuracy_score(y_test, y_pred_unidirectional)\n",
    "f1_unidirectional = f1_score(y_test, y_pred_unidirectional)\n",
    "print(f'Unidirectional LSTM - Accuracy: {accuracy_unidirectional:.4f}')\n",
    "print(f'Unidirectional LSTM - F1-Score: {f1_unidirectional:.4f}')\n"
   ]
  },
  {
   "cell_type": "markdown",
   "id": "2259e8e5",
   "metadata": {},
   "source": []
  },
  {
   "cell_type": "markdown",
   "id": "6269d9b1",
   "metadata": {},
   "source": [
    "### Model Performance Comparison\n",
    "\n",
    "**Bidirectional LSTM:**\n",
    "- **Accuracy:** 0.5132\n",
    "- **F1-Score:** 0.3564\n",
    "\n",
    "**Unidirectional LSTM:**\n",
    "- **Accuracy:** 0.8861\n",
    "- **F1-Score:** 0.8874\n",
    "\n",
    "#### Analysis:\n",
    "The Unidirectional LSTM model significantly outperformed the Bidirectional LSTM model, with much higher accuracy and F1-score. This suggests that for this particular sentiment analysis task on the IMDB dataset, processing the sequence in one direction is more effective than capturing context from both directions.\n",
    "\n",
    "The lower performance of the Bidirectional LSTM might be due to overfitting or the complexity added by processing sequences in both directions. The Unidirectional LSTM, being simpler, likely benefited from better generalization.\n",
    "\n",
    "This result indicates that for certain tasks, simpler models may outperform more complex ones, particularly if the additional complexity does not add meaningful value to the model's understanding of the data. Further experiments could involve tuning the Bidirectional LSTM to see if its performance can be improved, or focusing on enhancing the Unidirectional LSTM further.\n"
   ]
  }
 ],
 "metadata": {
  "kernelspec": {
   "display_name": "Python 3 (ipykernel)",
   "language": "python",
   "name": "python3"
  },
  "language_info": {
   "codemirror_mode": {
    "name": "ipython",
    "version": 3
   },
   "file_extension": ".py",
   "mimetype": "text/x-python",
   "name": "python",
   "nbconvert_exporter": "python",
   "pygments_lexer": "ipython3",
   "version": "3.11.3"
  }
 },
 "nbformat": 4,
 "nbformat_minor": 5
}
